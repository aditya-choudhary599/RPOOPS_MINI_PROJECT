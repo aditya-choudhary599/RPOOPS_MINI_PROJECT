{
 "cells": [
  {
   "cell_type": "code",
   "execution_count": 1,
   "id": "c563f2a8",
   "metadata": {},
   "outputs": [],
   "source": [
    "import pandas as pd"
   ]
  },
  {
   "cell_type": "code",
   "execution_count": 2,
   "id": "9e6c8968",
   "metadata": {},
   "outputs": [],
   "source": [
    "import json"
   ]
  },
  {
   "cell_type": "code",
   "execution_count": 3,
   "id": "8cbb79ad",
   "metadata": {},
   "outputs": [],
   "source": [
    "df=pd.read_csv(\"~\\Desktop\\RPOOPS\\Mini Project\\Part_C\\Resources\\sy_comp_student_data.csv\")\n"
   ]
  },
  {
   "cell_type": "code",
   "execution_count": 4,
   "id": "e7e84ae3",
   "metadata": {},
   "outputs": [
    {
     "data": {
      "text/plain": [
       "Index(['MIS No', 'Student Name ', 'Coep MailId'], dtype='object')"
      ]
     },
     "execution_count": 4,
     "metadata": {},
     "output_type": "execute_result"
    }
   ],
   "source": [
    "df.columns"
   ]
  },
  {
   "cell_type": "code",
   "execution_count": 5,
   "id": "4c033c71",
   "metadata": {},
   "outputs": [
    {
     "data": {
      "text/plain": [
       "(160, 3)"
      ]
     },
     "execution_count": 5,
     "metadata": {},
     "output_type": "execute_result"
    }
   ],
   "source": [
    "df.shape"
   ]
  },
  {
   "cell_type": "code",
   "execution_count": 6,
   "id": "401ce74a",
   "metadata": {},
   "outputs": [],
   "source": [
    "final_dict={}\n",
    "for i in range(0,160,1):\n",
    "\ttemp_dict=df.loc[i].to_dict()\n",
    "\tfinal_dict[temp_dict['MIS No']]=temp_dict"
   ]
  },
  {
   "cell_type": "code",
   "execution_count": 7,
   "id": "0579afba",
   "metadata": {},
   "outputs": [],
   "source": [
    "with open(\"sy_comp_student_data.json\",'w') as f:\n",
    "    json.dump(final_dict,fp=f,indent=4)"
   ]
  },
  {
   "cell_type": "code",
   "execution_count": null,
   "id": "79281e4a",
   "metadata": {},
   "outputs": [],
   "source": []
  }
 ],
 "metadata": {
  "kernelspec": {
   "display_name": "Python 3 (ipykernel)",
   "language": "python",
   "name": "python3"
  },
  "language_info": {
   "codemirror_mode": {
    "name": "ipython",
    "version": 3
   },
   "file_extension": ".py",
   "mimetype": "text/x-python",
   "name": "python",
   "nbconvert_exporter": "python",
   "pygments_lexer": "ipython3",
   "version": "3.9.13"
  }
 },
 "nbformat": 4,
 "nbformat_minor": 5
}
